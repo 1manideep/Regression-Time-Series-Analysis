{
  "nbformat": 4,
  "nbformat_minor": 0,
  "metadata": {
    "colab": {
      "provenance": []
    },
    "kernelspec": {
      "name": "ir",
      "display_name": "R"
    },
    "language_info": {
      "name": "R"
    }
  },
  "cells": [
    {
      "cell_type": "code",
      "source": [
        "install.packages(\"mlbench\")"
      ],
      "metadata": {
        "colab": {
          "base_uri": "https://localhost:8080/"
        },
        "id": "6CXFq6awRzv4",
        "outputId": "ffe4c2c6-8536-431f-80c2-cd914e4e57fa"
      },
      "execution_count": null,
      "outputs": [
        {
          "output_type": "stream",
          "name": "stderr",
          "text": [
            "Installing package into ‘/usr/local/lib/R/site-library’\n",
            "(as ‘lib’ is unspecified)\n",
            "\n"
          ]
        }
      ]
    },
    {
      "cell_type": "code",
      "execution_count": null,
      "metadata": {
        "id": "xDFByJ16RbKc"
      },
      "outputs": [],
      "source": [
        "library(mlbench)\n",
        "library(dplyr)\n",
        "\n",
        "data(\"BostonHousing2\")\n",
        "dat <- BostonHousing2 %>%\n",
        "  select(-c(\"town\", \"lat\", \"lon\", \"tract\", \"medv\"))\n",
        "\n",
        "fit.full <- lm(cmedv ~ ., data = dat)\n",
        "\n",
        "fit.null <- lm(cmedv ~ 1, data = dat)\n"
      ]
    },
    {
      "cell_type": "code",
      "source": [
        "fit.forward <- step(fit.null,\n",
        "                    scope = list(lower = ~1, upper = fit.full),\n",
        "                    direction = \"forward\",\n",
        "                    trace = FALSE,\n",
        "                    k = 2,\n",
        "                    keep = function(model, aic) list(model = model, aic = aic))\n",
        "\n",
        "fifth_model <- fit.forward$keep[[5]]$model\n",
        "print(summary(fifth_model))\n"
      ],
      "metadata": {
        "colab": {
          "base_uri": "https://localhost:8080/"
        },
        "id": "Id3g53IwSWz1",
        "outputId": "f5ff5476-f17c-4c39-d36c-2ff650b1339e"
      },
      "execution_count": null,
      "outputs": [
        {
          "output_type": "stream",
          "name": "stdout",
          "text": [
            "     cmedv           lstat             rm       \n",
            " Min.   : 5.00   Min.   : 1.73   Min.   :3.561  \n",
            " 1st Qu.:17.02   1st Qu.: 6.95   1st Qu.:5.886  \n",
            " Median :21.20   Median :11.36   Median :6.208  \n",
            " Mean   :22.53   Mean   :12.65   Mean   :6.285  \n",
            " 3rd Qu.:25.00   3rd Qu.:16.95   3rd Qu.:6.623  \n",
            " Max.   :50.00   Max.   :37.97   Max.   :8.780  \n"
          ]
        }
      ]
    },
    {
      "cell_type": "code",
      "source": [
        "\n",
        "aic_values <- sapply(fit.forward$keep, function(x) {\n",
        "  if (is.numeric(x)) return(x)\n",
        "  return(NA)\n",
        "})\n",
        "\n",
        "aic_values <- na.omit(aic_values)\n",
        "\n",
        "num_predictors <- seq_along(aic_values)\n"
      ],
      "metadata": {
        "id": "DNmimUlMUXag"
      },
      "execution_count": null,
      "outputs": []
    },
    {
      "cell_type": "code",
      "source": [
        "plot(\n",
        "  num_predictors, aic_values, type = \"b\",\n",
        "  xlab = \"Number of Predictors\", ylab = \"AIC\",\n",
        "  main = \"AIC vs Number of Predictors (Forward Selection)\"\n",
        ")\n"
      ],
      "metadata": {
        "colab": {
          "base_uri": "https://localhost:8080/",
          "height": 437
        },
        "id": "4zPJGZKoUYaF",
        "outputId": "6ead5489-8020-4f18-8063-0c7bdc046569"
      },
      "execution_count": null,
      "outputs": [
        {
          "output_type": "display_data",
          "data": {
            "text/plain": [
              "Plot with title “AIC vs Number of Predictors (Forward Selection)”"
            ],
            "image/png": "[encoded data removed]"
          },
          "metadata": {
            "image/png": {
              "width": 420,
              "height": 420
            }
          }
        }
      ]
    },
    {
      "cell_type": "code",
      "source": [
        "print(fit.forward$keep)"
      ],
      "metadata": {
        "colab": {
          "base_uri": "https://localhost:8080/"
        },
        "id": "TlTMfKkBZnS1",
        "outputId": "3e626777-c57e-411b-823a-c4df543e2acd"
      },
      "execution_count": null,
      "outputs": [
        {
          "output_type": "stream",
          "name": "stdout",
          "text": [
            "      [,1]    [,2]    [,3]     [,4]     [,5]     [,6]     [,7]     [,8]    \n",
            "model lm,12   lm,12   lm,12    lm,12    lm,12    lm,12    lm,13    lm,13   \n",
            "aic   2244.87 1844.13 1728.426 1672.444 1654.666 1625.411 1613.595 1603.882\n",
            "      [,9]     [,10]    [,11]    [,12]   \n",
            "model lm,13    lm,13    lm,13    lm,13   \n",
            "aic   1597.281 1594.994 1587.877 1576.677\n"
          ]
        }
      ]
    },
    {
      "cell_type": "code",
      "source": [
        "bic_values <- as.numeric(fit.forward$keep[\"bic\", ])\n",
        "\n",
        "bic_values <- na.omit(bic_values)\n",
        "\n",
        "if (length(bic_values) > 0) {\n",
        "  num_predictors <- seq_along(bic_values)\n",
        "\n",
        "  plot(\n",
        "    num_predictors, bic_values, type = \"b\",\n",
        "    xlab = \"Number of Predictors\", ylab = \"BIC\",\n",
        "    main = \"BIC vs Number of Predictors (Forward Selection)\"\n",
        "  )\n",
        "\n",
        "  best_model_index <- which.min(bic_values)\n",
        "  best_model <- fit.forward$keep[\"model\", best_model_index]\n",
        "\n",
        "  print(summary(best_model))\n",
        "} else {\n",
        "  print(\"No valid BIC values found.\")\n",
        "}"
      ],
      "metadata": {
        "colab": {
          "base_uri": "https://localhost:8080/",
          "height": 73
        },
        "id": "w5BIxJnmZEhU",
        "outputId": "c96fcac4-0d83-4693-c021-15b23361ab44"
      },
      "execution_count": null,
      "outputs": [
        {
          "output_type": "error",
          "ename": "ERROR",
          "evalue": "Error in fit.forward$keep[\"bic\", ]: subscript out of bounds\n",
          "traceback": [
            "Error in fit.forward$keep[\"bic\", ]: subscript out of bounds\nTraceback:\n"
          ]
        }
      ]
    },
    {
      "cell_type": "code",
      "source": [
        "selected_model <- fit.forward$keep[\"model\", stop_index][[1]]\n",
        "print(summary(selected_model))"
      ],
      "metadata": {
        "id": "1jqZcFTtaA4X"
      },
      "execution_count": null,
      "outputs": []
    },
    {
      "cell_type": "markdown",
      "source": [
        "we select lm(formula = cmedv ~ lstat + rm + ptratio + dis + nox + chas + b + zn, data = dat) because it's last model before BIC value starts to increase."
      ],
      "metadata": {
        "id": "WziQfaY_aMJU"
      }
    },
    {
      "cell_type": "code",
      "source": [
        "fit.backward <- step(fit.full,\n",
        "                     direction = \"backward\",\n",
        "                     trace = FALSE,\n",
        "                     k = log(nrow(dat)),\n",
        "                     keep = function(model, aic) list(model = model, bic = BIC(model)))\n",
        "\n",
        "\n",
        "bic_values <- as.numeric(fit.backward$keep[\"bic\", ])\n",
        "\n",
        "bic_values <- na.omit(bic_values)\n",
        "\n",
        "if (length(bic_values) > 0) {\n",
        "  stop_index <- which(diff(bic_values) > 0)[1]\n",
        "\n",
        "  if (is.na(stop_index)) {\n",
        "    stop_index <- length(bic_values)\n",
        "  }\n",
        "\n",
        "  selected_model <- fit.backward$keep[\"model\", stop_index][[1]]\n",
        "\n",
        "  print(summary(selected_model))\n",
        "} else {\n",
        "  print(\"No valid BIC values found.\")\n",
        "}"
      ],
      "metadata": {
        "id": "fMPf44eAaRXh"
      },
      "execution_count": null,
      "outputs": []
    },
    {
      "cell_type": "markdown",
      "source": [
        "we select lm(formula = cmedv ~ crim + zn + chas + nox + rm + dis + rad + tax + ptratio + b + lstat, data = dat) as it is the last model before the BIC value starts to increase, meaning that removing more predictors would not improve our model."
      ],
      "metadata": {
        "id": "40IdXTPuasKJ"
      }
    },
    {
      "cell_type": "code",
      "source": [
        "fit.null <- lm(cmedv ~ 1, data = dat)\n",
        "\n",
        "fit.full <- lm(cmedv ~ ., data = dat)\n",
        "\n",
        "fit.stepwise.aic <- step(fit.null,\n",
        "                         scope = list(lower = fit.null, upper = fit.full),\n",
        "                         direction = \"both\",\n",
        "                         trace = FALSE)\n",
        "\n",
        "summary(fit.stepwise.aic)"
      ],
      "metadata": {
        "id": "7CkMoXDwax7q"
      },
      "execution_count": null,
      "outputs": []
    },
    {
      "cell_type": "code",
      "source": [
        "fit.stepwise.bic <- step(fit.null,\n",
        "                         scope = list(lower = fit.null, upper = fit.full),\n",
        "                         direction = \"both\",\n",
        "                         trace = FALSE,\n",
        "                         k = log(nrow(dat)))\n",
        "\n",
        "summary(fit.stepwise.bic)"
      ],
      "metadata": {
        "id": "MUhY3_gQa-Wd"
      },
      "execution_count": null,
      "outputs": []
    },
    {
      "cell_type": "markdown",
      "source": [
        "Q2, part d"
      ],
      "metadata": {
        "id": "17zo5VkffTD_"
      }
    },
    {
      "cell_type": "code",
      "source": [
        "omega <- pi / 4\n",
        "n <- 100\n",
        "set.seed(42)\n",
        "\n",
        "simulate <- function(n, omega) {\n",
        "  A <- rchisq(1, df = 1)\n",
        "  Theta <- runif(1, 0, 2 * pi)\n",
        "  t <- 1:n\n",
        "  x_t <- A * cos(omega * t + Theta)\n",
        "  return(x_t)\n",
        "}\n",
        "\n",
        "\n",
        "s1 <- simulate(n, omega)\n",
        "s2 <- simulate(n, omega)\n",
        "s3 <- simulate(n, omega)\n",
        "\n",
        "\n",
        "plot(1:n, series1, type = \"l\", col = \"blue\", ylim = range(c(s1, s2, s3)),\n",
        "     ylab = \"Amplitude\", xlab = \"t\")\n",
        "lines(1:n, series2, col = \"orange\")\n",
        "lines(1:n, series3, col = \"red\")\n",
        "legend(\"topright\", legend = c(\"Series 1\", \"Series 2\", \"Series 3\"),\n",
        "       col = c(\"blue\", \"orange\", \"red\"), lty = 1)"
      ],
      "metadata": {
        "id": "h3Fia51Vf4bZ"
      },
      "execution_count": null,
      "outputs": []
    },
    {
      "cell_type": "code",
      "source": [
        "amplitude_series1 <- max(abs(s1))\n",
        "amplitude_series2 <- max(abs(s2))\n",
        "amplitude_series3 <- max(abs(s3))\n",
        "\n",
        "amplitude_series1\n",
        "amplitude_series2\n",
        "amplitude_series3\n"
      ],
      "metadata": {
        "id": "eNglyEYVgGwU"
      },
      "execution_count": null,
      "outputs": []
    }
  ]
}