{
  "nbformat": 4,
  "nbformat_minor": 0,
  "metadata": {
    "colab": {
      "provenance": []
    },
    "kernelspec": {
      "name": "ir",
      "display_name": "R"
    },
    "language_info": {
      "name": "R"
    }
  },
  "cells": [
    {
      "cell_type": "markdown",
      "source": [
        "Question 2 :\n",
        "\n",
        "(a) Researcher A thinks that child height depends on father height, mother height or gender\n",
        "\n",
        "Similar to example, we assume negation is correct and see if our data is consistent with that or not.\n",
        "\n",
        "null hypothesis, H0 would be None of father height, mother height, or gender affects child height, in this case the coefficients of father height, mother height and gender will be zero.\n",
        "\n",
        "H1 would be atleast one of these would be non-zero.\n"
      ],
      "metadata": {
        "id": "xWufwboa8tAF"
      }
    },
    {
      "cell_type": "code",
      "source": [
        "install.packages(\"HistData\")"
      ],
      "metadata": {
        "colab": {
          "base_uri": "https://localhost:8080/"
        },
        "id": "LefM_nLEr-MO",
        "outputId": "b4ee941d-a1a6-4911-e3b5-10d24f9c364e"
      },
      "execution_count": null,
      "outputs": [
        {
          "output_type": "stream",
          "name": "stderr",
          "text": [
            "Installing package into ‘/usr/local/lib/R/site-library’\n",
            "(as ‘lib’ is unspecified)\n",
            "\n"
          ]
        }
      ]
    },
    {
      "cell_type": "code",
      "execution_count": null,
      "metadata": {
        "colab": {
          "base_uri": "https://localhost:8080/",
          "height": 374
        },
        "id": "lM0qr22SruZD",
        "outputId": "8eb05fdc-98e3-4b79-811d-3f734d6694d1"
      },
      "outputs": [
        {
          "output_type": "display_data",
          "data": {
            "text/plain": [
              "\n",
              "Call:\n",
              "lm(formula = childHeight ~ father + mother + gender, data = GaltonFamilies)\n",
              "\n",
              "Residuals:\n",
              "    Min      1Q  Median      3Q     Max \n",
              "-9.5247 -1.4653  0.0943  1.4860  9.1201 \n",
              "\n",
              "Coefficients:\n",
              "            Estimate Std. Error t value Pr(>|t|)    \n",
              "(Intercept) 16.52124    2.72720   6.058    2e-09 ***\n",
              "father       0.39284    0.02868  13.699   <2e-16 ***\n",
              "mother       0.31761    0.03100  10.245   <2e-16 ***\n",
              "gendermale   5.21499    0.14181  36.775   <2e-16 ***\n",
              "---\n",
              "Signif. codes:  0 ‘***’ 0.001 ‘**’ 0.01 ‘*’ 0.05 ‘.’ 0.1 ‘ ’ 1\n",
              "\n",
              "Residual standard error: 2.165 on 930 degrees of freedom\n",
              "Multiple R-squared:  0.6354,\tAdjusted R-squared:  0.6342 \n",
              "F-statistic: 540.3 on 3 and 930 DF,  p-value: < 2.2e-16\n"
            ]
          },
          "metadata": {}
        }
      ],
      "source": [
        "library(HistData)\n",
        "data(GaltonFamilies)\n",
        "\n",
        "GaltonFamilies$gender <- factor(GaltonFamilies$gender)\n",
        "GaltonFamilies$gender <- relevel(GaltonFamilies$gender, ref = \"female\")\n",
        "\n",
        "lmod <- lm(childHeight ~ father + mother + gender, data = GaltonFamilies)\n",
        "\n",
        "summary(lmod)"
      ]
    },
    {
      "cell_type": "markdown",
      "source": [
        "p value for all (fatherr, mother and gender) are significantly smaller than 0.005 (our alpha), so we reject the null hypothesis. Father's height, mother's height and gender have impact on the child height. For how much affect we can look at the estimate for the impact, for 1 increase in father's height child height increases by 0.39 and for mother's 0.31 keeping others constant. Males are 5.21 taller than females."
      ],
      "metadata": {
        "id": "g-ELOP9bAYGY"
      }
    },
    {
      "cell_type": "markdown",
      "source": [
        "(b)\n",
        "Researcher B thinks that, given father and mother heights, boys and girls are expected to have different height.\n",
        "Null hypothesis (H0), no effect of gender on height given mother and father height, meaning coefficient of gender will be zero.\n",
        "H1, coefficient is non-zero, gender affects height.\n"
      ],
      "metadata": {
        "id": "0z2D7pbFCGVm"
      }
    },
    {
      "cell_type": "code",
      "source": [
        "pvalue_gender <- coef(summary(lmod))[\"gendermale\", \"Pr(>|t|)\"]\n",
        "pvalue_gender\n"
      ],
      "metadata": {
        "colab": {
          "base_uri": "https://localhost:8080/",
          "height": 34
        },
        "id": "5YY6kjXrCxYa",
        "outputId": "7097c324-dde1-406f-a0f1-c65ac5a659e6"
      },
      "execution_count": null,
      "outputs": [
        {
          "output_type": "display_data",
          "data": {
            "text/html": [
              "1.67820176043248e-183"
            ],
            "text/markdown": "1.67820176043248e-183",
            "text/latex": "1.67820176043248e-183",
            "text/plain": [
              "[1] 1.678202e-183"
            ]
          },
          "metadata": {}
        }
      ]
    },
    {
      "cell_type": "markdown",
      "source": [
        "p-value for gender is less than alpha (0.005) so our null hypothesis is incorrect and thus gender has effect on height of children given mother and father height, so boys and girls have different height."
      ],
      "metadata": {
        "id": "QgJwinda8rav"
      }
    },
    {
      "cell_type": "markdown",
      "source": [
        "(c) Researcher C thinks that, given father and mother heights, boys on average are more than 4 inches taller than girls.\n",
        "\n",
        "Null hypothesis (H0) is that height of boys is on average 4 inches less than or equal to girls, means the coefficient of gender will be less than or equal to 4\n",
        "\n",
        "H1, coefficient of gender will be greater than 4"
      ],
      "metadata": {
        "id": "TM8GjM8EDk0p"
      }
    },
    {
      "cell_type": "code",
      "source": [
        "betahat3 <- coef(lmod)[\"gendermale\"]\n",
        "se.betahat3 <- coef(summary(lmod))[\"gendermale\", \"Std. Error\"]\n",
        "\n",
        "t3obs <- (betahat3 - 4) / se.betahat3\n",
        "pvalue <- 1 - pt(t3obs, df = nrow(GaltonFamilies) - length(coef(lmod)))\n",
        "pvalue"
      ],
      "metadata": {
        "colab": {
          "base_uri": "https://localhost:8080/",
          "height": 34
        },
        "id": "HZ6IWWRwHDRE",
        "outputId": "96786010-9480-4a43-a4e8-ffd0f5997fae"
      },
      "execution_count": null,
      "outputs": [
        {
          "output_type": "display_data",
          "data": {
            "text/html": [
              "<strong>gendermale:</strong> 0"
            ],
            "text/markdown": "**gendermale:** 0",
            "text/latex": "\\textbf{gendermale:} 0",
            "text/plain": [
              "gendermale \n",
              "         0 "
            ]
          },
          "metadata": {}
        }
      ]
    },
    {
      "cell_type": "markdown",
      "source": [
        "The p value is so close to zero, obviously less than 0.005 hence Null hypothesis is incorrect, so boys on average are more than 4 inches taller than girls."
      ],
      "metadata": {
        "id": "_HSV9lMKICEi"
      }
    },
    {
      "cell_type": "markdown",
      "source": [
        "(d) Researcher D thinks that child height is associated with at least one of father height and mother height.\n",
        "\n",
        "Null hypothesis (H0), child height is not associated with either mother or father (total - union of both), here both coefficeients of mother and father height will be zero.\n",
        "\n",
        "H1, Atleast one of the coefficients of mother, father height is not zero."
      ],
      "metadata": {
        "id": "3xBloyzJIPal"
      }
    },
    {
      "cell_type": "code",
      "source": [
        "pvalue_father <- coef(summary(lmod))[\"father\", \"Pr(>|t|)\"]\n",
        "pvalue_mother <- coef(summary(lmod))[\"mother\", \"Pr(>|t|)\"]\n",
        "\n",
        "pvalue_father\n",
        "pvalue_mother"
      ],
      "metadata": {
        "colab": {
          "base_uri": "https://localhost:8080/",
          "height": 52
        },
        "id": "23labb_hJFKR",
        "outputId": "69971e57-ce00-4405-aeb9-1a0c95f7e9f9"
      },
      "execution_count": null,
      "outputs": [
        {
          "output_type": "display_data",
          "data": {
            "text/html": [
              "4.81860505994756e-39"
            ],
            "text/markdown": "4.81860505994756e-39",
            "text/latex": "4.81860505994756e-39",
            "text/plain": [
              "[1] 4.818605059947556888656e-39"
            ]
          },
          "metadata": {}
        },
        {
          "output_type": "display_data",
          "data": {
            "text/html": [
              "2.06135388523103e-23"
            ],
            "text/markdown": "2.06135388523103e-23",
            "text/latex": "2.06135388523103e-23",
            "text/plain": [
              "[1] 2.061353885231034041538e-23"
            ]
          },
          "metadata": {}
        }
      ]
    },
    {
      "cell_type": "markdown",
      "source": [
        "both p values are less than 0.005, we reject the null hypothesis, hence child height is associated with at least one of mother and father height."
      ],
      "metadata": {
        "id": "Tic1xxj8JLbr"
      }
    },
    {
      "cell_type": "markdown",
      "source": [
        "(e) Researcher E believes that child height has a relationship with father and mother heights and does not believe that boys, on average, are 3 inches taller than girls given father and mother heights.\n",
        "\n",
        "We are testing if boys are 3 inches taller or not effectively.\n",
        "\n",
        "Null hypothesis (H0), boys are three inches taller than girls, coefficient of boys height is 3.\n",
        "\n",
        "H1, beta3 not equals to 3"
      ],
      "metadata": {
        "id": "7KQwD7faJWaI"
      }
    },
    {
      "cell_type": "code",
      "source": [
        "betahat3 <- coef(lmod)[\"gendermale\"]\n",
        "se.betahat3 <- coef(summary(lmod))[\"gendermale\", \"Std. Error\"]\n",
        "\n",
        "t3obs <- (betahat3 - 3) / se.betahat3\n",
        "pvalue <- 2 * (1 - pt(abs(t3obs), df = nrow(GaltonFamilies) - length(coef(lmod))))\n",
        "pvalue\n"
      ],
      "metadata": {
        "colab": {
          "base_uri": "https://localhost:8080/",
          "height": 34
        },
        "id": "YiE6US8qJHBS",
        "outputId": "6bb3d784-73a1-4d2b-fb2c-9d3f56605e07"
      },
      "execution_count": null,
      "outputs": [
        {
          "output_type": "display_data",
          "data": {
            "text/html": [
              "<strong>gendermale:</strong> 0"
            ],
            "text/markdown": "**gendermale:** 0",
            "text/latex": "\\textbf{gendermale:} 0",
            "text/plain": [
              "gendermale \n",
              "         0 "
            ]
          },
          "metadata": {}
        }
      ]
    },
    {
      "cell_type": "markdown",
      "source": [
        "just like for part (c), here p value is very close to zero. so we can conclude our null hypothesis is incorrect. So, boys are not on average 3 inches taller than girls."
      ],
      "metadata": {
        "id": "VmmcYEqdKnsk"
      }
    },
    {
      "cell_type": "markdown",
      "source": [
        "Question 3"
      ],
      "metadata": {
        "id": "olVmt9QHLkyA"
      }
    },
    {
      "cell_type": "code",
      "source": [
        "conf <- confint(lmod, level = 0.95)\n",
        "\n",
        "b3_conf <- conf[\"gendermale\", ]\n",
        "b3_conf"
      ],
      "metadata": {
        "colab": {
          "base_uri": "https://localhost:8080/",
          "height": 34
        },
        "id": "lDTAeBWrK5k3",
        "outputId": "32085f25-f68d-4849-d9b4-a6d903fb807d"
      },
      "execution_count": null,
      "outputs": [
        {
          "output_type": "display_data",
          "data": {
            "text/html": [
              "<style>\n",
              ".dl-inline {width: auto; margin:0; padding: 0}\n",
              ".dl-inline>dt, .dl-inline>dd {float: none; width: auto; display: inline-block}\n",
              ".dl-inline>dt::after {content: \":\\0020\"; padding-right: .5ex}\n",
              ".dl-inline>dt:not(:first-of-type) {padding-left: .5ex}\n",
              "</style><dl class=dl-inline><dt>2.5 %</dt><dd>4.93668673024147</dd><dt>97.5 %</dt><dd>5.49329197162124</dd></dl>\n"
            ],
            "text/markdown": "2.5 %\n:   4.9366867302414797.5 %\n:   5.49329197162124\n\n",
            "text/latex": "\\begin{description*}\n\\item[2.5 \\textbackslash{}\\%] 4.93668673024147\n\\item[97.5 \\textbackslash{}\\%] 5.49329197162124\n\\end{description*}\n",
            "text/plain": [
              "                  2.5 %                  97.5 % \n",
              "4.936686730241474307945 5.493291971621241387425 "
            ]
          },
          "metadata": {}
        }
      ]
    },
    {
      "cell_type": "markdown",
      "source": [
        "Researcher B thinks that, given father and mother heights, boys and girls are expected to have different height.\n",
        "Null hypothesis (H0), no effect of gender on height given mother and father height, meaning coefficient of gender will be zero.\n",
        "H1, coefficient is non-zero, gender affects height.\n",
        "\n",
        "Here, the confidence interval doesn't include zero, so the coefficient of gender has impact, hence our null hypothesis is incorrect. Reasearcher B is correct to think that, given father and mother heights, boys and girls are expected to have different heights."
      ],
      "metadata": {
        "id": "JNDGgPCWLxdV"
      }
    },
    {
      "cell_type": "markdown",
      "source": [
        "Calculation for probability from question 4"
      ],
      "metadata": {
        "id": "eDy4sKy5SQLB"
      }
    },
    {
      "cell_type": "code",
      "source": [
        "t_value <- 4.683\n",
        "df <- 28\n",
        "\n",
        "p_value <- 2 * (1 - pt(t_value, df))\n",
        "p_value"
      ],
      "metadata": {
        "id": "V8AiqoLlSTf2",
        "outputId": "f714622d-10b1-4af8-c217-e2247958659f",
        "colab": {
          "base_uri": "https://localhost:8080/",
          "height": 34
        }
      },
      "execution_count": null,
      "outputs": [
        {
          "output_type": "display_data",
          "data": {
            "text/html": [
              "6.59632337411953e-05"
            ],
            "text/markdown": "6.59632337411953e-05",
            "text/latex": "6.59632337411953e-05",
            "text/plain": [
              "[1] 6.596323374119528182291e-05"
            ]
          },
          "metadata": {}
        }
      ]
    }
  ]
}